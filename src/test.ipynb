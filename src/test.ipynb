{
 "cells": [
  {
   "cell_type": "code",
   "execution_count": 32,
   "metadata": {},
   "outputs": [],
   "source": [
    "import math as math"
   ]
  },
  {
   "cell_type": "code",
   "execution_count": 122,
   "metadata": {},
   "outputs": [
    {
     "name": "stdout",
     "output_type": "stream",
     "text": [
      "[0, 1, 1, 2, 3, 4, 5, 6, 7, 7, 8, 9, 85]\n"
     ]
    }
   ],
   "source": [
    "def leafFamily(index):\n",
    "    parents = [index]\n",
    "    indexChange = index\n",
    "    while indexChange > 1:\n",
    "        indexChange = math.floor(indexChange/2)\n",
    "        parents.append(indexChange)\n",
    "    return parents\n",
    "\n",
    "\n",
    "def heapify(array):\n",
    "    \n",
    "    for index, num in enumerate(array):\n",
    "\n",
    "        position = 1 + index  #  Keep this to make it all go smoothly.\n",
    "        parents = leafFamily(position)\n",
    "        \n",
    "\n",
    "        if len(parents) > 1:\n",
    "            left = 0\n",
    "            right = 1\n",
    "            while right < len(parents):\n",
    "\n",
    "                childIndex = parents[left] - 1  #  Keep this to make it all go smoothly. \n",
    "                parentIndex = parents[right] - 1  #  Keep this to make it all go smoothly. \n",
    "\n",
    "                childVal = array[childIndex]\n",
    "                parentVal = array[parentIndex]\n",
    "\n",
    "                if childVal <= parentVal:\n",
    "                    break\n",
    "                else:\n",
    "                    #  Swapping here!\n",
    "                    array[childIndex] = parentVal\n",
    "                    array[parentIndex] = childVal\n",
    "                    left += 1\n",
    "                    right += 1\n",
    "        \n",
    "    return array\n",
    "\n",
    "def heapSort(array):\n",
    "    adjustedLength = len(array)\n",
    "    adjustedArray = array\n",
    "    while adjustedLength > 0:\n",
    "\n",
    "        heapedArray = heapify(adjustedArray[:adjustedLength])\n",
    "\n",
    "        \n",
    "\n",
    "        for index in range(len(heapedArray)):\n",
    "            adjustedArray[index] = heapedArray[index]\n",
    "        \n",
    "        firstIndex = 0\n",
    "        lastLookedAtIndex = adjustedLength - 1\n",
    "        firstNum = heapedArray[0]\n",
    "        lastLookedAtNum = heapedArray[lastLookedAtIndex]\n",
    "\n",
    "\n",
    "        #  Swapping first and last of heaped\n",
    "        adjustedArray[firstIndex] = lastLookedAtNum\n",
    "        adjustedArray[lastLookedAtIndex] = firstNum\n",
    "\n",
    "        adjustedLength -= 1\n",
    "\n",
    "    \n",
    "    return adjustedArray\n",
    "\n",
    "\n",
    "print(heapSort([9,8,7,6,5,4,1,2,3,0,1,7,85]))\n"
   ]
  }
 ],
 "metadata": {
  "interpreter": {
   "hash": "0cca6aa2681a43a97a600844f5280563a94ffe82b4488d21b0b55ac3f2d098f9"
  },
  "kernelspec": {
   "display_name": "Python 3.9.7 ('base')",
   "language": "python",
   "name": "python3"
  },
  "language_info": {
   "codemirror_mode": {
    "name": "ipython",
    "version": 3
   },
   "file_extension": ".py",
   "mimetype": "text/x-python",
   "name": "python",
   "nbconvert_exporter": "python",
   "pygments_lexer": "ipython3",
   "version": "3.9.7"
  },
  "orig_nbformat": 4
 },
 "nbformat": 4,
 "nbformat_minor": 2
}
